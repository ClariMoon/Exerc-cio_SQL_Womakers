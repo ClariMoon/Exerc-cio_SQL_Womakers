{
 "cells": [
  {
   "cell_type": "code",
   "execution_count": 1,
   "id": "21416173",
   "metadata": {},
   "outputs": [],
   "source": [
    "import sqlite3"
   ]
  },
  {
   "cell_type": "code",
   "execution_count": 2,
   "id": "1def4d72",
   "metadata": {},
   "outputs": [],
   "source": [
    "conexao = sqlite3.connect('banco')\n",
    "cursor = conexao.cursor()"
   ]
  },
  {
   "cell_type": "markdown",
   "id": "39a31432",
   "metadata": {},
   "source": [
    "## Exercício 1\n",
    "Crie uma tabela chamada \"alunos\" com os seguintes campos: id(inteiro), nome (texto), idade (inteiro) e curso (texto)."
   ]
  },
  {
   "cell_type": "code",
   "execution_count": 3,
   "id": "419f1e1c",
   "metadata": {},
   "outputs": [
    {
     "ename": "OperationalError",
     "evalue": "table alunos already exists",
     "output_type": "error",
     "traceback": [
      "\u001b[1;31m---------------------------------------------------------------------------\u001b[0m",
      "\u001b[1;31mOperationalError\u001b[0m                          Traceback (most recent call last)",
      "Cell \u001b[1;32mIn[3], line 1\u001b[0m\n\u001b[1;32m----> 1\u001b[0m cursor\u001b[38;5;241m.\u001b[39mexecute(\u001b[38;5;124m'\u001b[39m\u001b[38;5;124mCREATE TABLE alunos(id INT, nome VARCHAR(100), idade INT, curso VARCHAR(20))\u001b[39m\u001b[38;5;124m'\u001b[39m)\n",
      "\u001b[1;31mOperationalError\u001b[0m: table alunos already exists"
     ]
    }
   ],
   "source": [
    "cursor.execute('CREATE TABLE alunos(id INT, nome VARCHAR(100), idade INT, curso VARCHAR(20))')"
   ]
  },
  {
   "cell_type": "markdown",
   "id": "e4c53531",
   "metadata": {},
   "source": [
    "## Exercício 2\n",
    "Insira pelo menos 5 registros de alunos na tabela que você criou no exercício anterior."
   ]
  },
  {
   "cell_type": "code",
   "execution_count": 4,
   "id": "a2184a83",
   "metadata": {},
   "outputs": [
    {
     "data": {
      "text/plain": [
       "<sqlite3.Cursor at 0x2494c46ea40>"
      ]
     },
     "execution_count": 4,
     "metadata": {},
     "output_type": "execute_result"
    }
   ],
   "source": [
    "cursor.execute('INSERT INTO alunos(id, nome, idade, curso) VALUES (1, \"Maria\", 20, \"Química\"), \\\n",
    "(2, \"José\", 28, \"Direito\"), (3, \"Carla\", 15, \"Letras\"), (4, \"Luísa\", 35, \"Medicina\"), \\\n",
    "(5, \"Pedro\", 40, \"Contabilidade\")')"
   ]
  },
  {
   "cell_type": "code",
   "execution_count": 5,
   "id": "078793bb",
   "metadata": {},
   "outputs": [
    {
     "data": {
      "text/plain": [
       "<sqlite3.Cursor at 0x2494c46ea40>"
      ]
     },
     "execution_count": 5,
     "metadata": {},
     "output_type": "execute_result"
    }
   ],
   "source": [
    "cursor.execute('INSERT INTO alunos(id, nome, idade, curso) VALUES (6, \"Vinícius\", 20, \"Engenharia\"), \\\n",
    "(7, \"Leandro\", 22, \"Física\"), (8, \"Lívia\", 32, \"Arquitetura\"), (9, \"Sheila\", 24, \"Engenharia\"), \\\n",
    "(10, \"Paulo\", 43, \"Economia\")')"
   ]
  },
  {
   "cell_type": "markdown",
   "id": "df603006",
   "metadata": {},
   "source": [
    "## Exercício 3\n",
    "Consultas Básicas - \n",
    "Escreva consultas SQL para realizar as seguintes tarefas:\n",
    "<br>a) Selecionar todos os registros da tabela \"alunos\".\n",
    "<br>b) Selecionar o nome e a idade dos alunos com mais de 20 anos.\n",
    "<br>c) Selecionar os alunos do curso de \"Engenharia\" em ordem alfabética.\n",
    "<br>d) Contar o número total de alunos na tabela"
   ]
  },
  {
   "cell_type": "code",
   "execution_count": 6,
   "id": "ee21ea3e",
   "metadata": {},
   "outputs": [
    {
     "name": "stdout",
     "output_type": "stream",
     "text": [
      "(1, 'Maria', 20, 'Química')\n",
      "(2, 'José', 28, 'Direito')\n",
      "(3, 'Carla', 15, 'Letras')\n",
      "(4, 'Luísa', 35, 'Medicina')\n",
      "(5, 'Pedro', 40, 'Contabilidade')\n",
      "(6, 'Vinícius', 20, 'Engenharia')\n",
      "(7, 'Leandro', 22, 'Física')\n",
      "(8, 'Lívia', 32, 'Arquitetura')\n",
      "(9, 'Sheila', 24, 'Engenharia')\n",
      "(10, 'Paulo', 43, 'Economia')\n"
     ]
    }
   ],
   "source": [
    "dados = cursor.execute('SELECT * FROM alunos')\n",
    "for i in dados:\n",
    "    print(i)"
   ]
  },
  {
   "cell_type": "code",
   "execution_count": 7,
   "id": "bd26d84f",
   "metadata": {},
   "outputs": [
    {
     "name": "stdout",
     "output_type": "stream",
     "text": [
      "('José', 28)\n",
      "('Luísa', 35)\n",
      "('Pedro', 40)\n",
      "('Leandro', 22)\n",
      "('Lívia', 32)\n",
      "('Sheila', 24)\n",
      "('Paulo', 43)\n"
     ]
    }
   ],
   "source": [
    "dados = cursor.execute('SELECT nome, idade FROM alunos WHERE idade>20')\n",
    "\n",
    "for i in dados:\n",
    "    print(i)"
   ]
  },
  {
   "cell_type": "code",
   "execution_count": 8,
   "id": "4d51d3d5",
   "metadata": {},
   "outputs": [
    {
     "name": "stdout",
     "output_type": "stream",
     "text": [
      "(9, 'Sheila', 24, 'Engenharia')\n",
      "(6, 'Vinícius', 20, 'Engenharia')\n"
     ]
    }
   ],
   "source": [
    "dados = cursor.execute('SELECT * FROM alunos WHERE curso = \"Engenharia\" ORDER BY nome')\n",
    "\n",
    "for i in dados:\n",
    "    print(i)"
   ]
  },
  {
   "cell_type": "code",
   "execution_count": 9,
   "id": "f29aeb8f",
   "metadata": {},
   "outputs": [
    {
     "name": "stdout",
     "output_type": "stream",
     "text": [
      "(10,)\n"
     ]
    }
   ],
   "source": [
    "contagem = cursor.execute('SELECT COUNT(*) FROM alunos')\n",
    "\n",
    "for i in contagem:\n",
    "    print(i)"
   ]
  },
  {
   "cell_type": "markdown",
   "id": "b8885dbe",
   "metadata": {},
   "source": [
    "## Exercício 4\n",
    "Atualização e Remoção\n",
    "<br>a) Atualize a idade de um aluno específico na tabela.\n",
    "<br>b) Remova um aluno pelo seu ID."
   ]
  },
  {
   "cell_type": "code",
   "execution_count": 10,
   "id": "893d66a8",
   "metadata": {},
   "outputs": [
    {
     "name": "stdout",
     "output_type": "stream",
     "text": [
      "(1, 'Maria', 20, 'Química')\n",
      "(2, 'José', 28, 'Direito')\n",
      "(3, 'Carla', 15, 'Letras')\n",
      "(4, 'Luísa', 35, 'Medicina')\n",
      "(5, 'Pedro', 19, 'Contabilidade')\n",
      "(6, 'Vinícius', 20, 'Engenharia')\n",
      "(7, 'Leandro', 22, 'Física')\n",
      "(8, 'Lívia', 32, 'Arquitetura')\n",
      "(9, 'Sheila', 24, 'Engenharia')\n",
      "(10, 'Paulo', 43, 'Economia')\n"
     ]
    }
   ],
   "source": [
    "cursor.execute('UPDATE alunos SET idade=19 WHERE nome=\"Pedro\"')\n",
    "dados = cursor.execute('SELECT * FROM alunos')\n",
    "\n",
    "for i in dados:\n",
    "    print(i)"
   ]
  },
  {
   "cell_type": "code",
   "execution_count": 11,
   "id": "555a5366",
   "metadata": {},
   "outputs": [
    {
     "name": "stdout",
     "output_type": "stream",
     "text": [
      "(1, 'Maria', 20, 'Química')\n",
      "(2, 'José', 28, 'Direito')\n",
      "(3, 'Carla', 15, 'Letras')\n",
      "(5, 'Pedro', 19, 'Contabilidade')\n",
      "(6, 'Vinícius', 20, 'Engenharia')\n",
      "(7, 'Leandro', 22, 'Física')\n",
      "(8, 'Lívia', 32, 'Arquitetura')\n",
      "(9, 'Sheila', 24, 'Engenharia')\n",
      "(10, 'Paulo', 43, 'Economia')\n"
     ]
    }
   ],
   "source": [
    "cursor.execute('DELETE FROM alunos WHERE id=4')\n",
    "\n",
    "dados = cursor.execute('SELECT * FROM alunos')\n",
    "\n",
    "for i in dados:\n",
    "    print(i)\n"
   ]
  },
  {
   "cell_type": "markdown",
   "id": "8187bcbf",
   "metadata": {},
   "source": [
    "## Exercício 5\n",
    "Criar uma Tabela e Inserir Dados\n",
    "<br>Crie uma tabela chamada \"clientes\" com os campos: id (chave primária), nome (texto), idade (inteiro) e saldo (float). Insira alguns registros de clientes na tabela."
   ]
  },
  {
   "cell_type": "code",
   "execution_count": 12,
   "id": "e3d4fdba",
   "metadata": {},
   "outputs": [
    {
     "data": {
      "text/plain": [
       "<sqlite3.Cursor at 0x2494c46ea40>"
      ]
     },
     "execution_count": 12,
     "metadata": {},
     "output_type": "execute_result"
    }
   ],
   "source": [
    "cursor.execute('CREATE TABLE clientes(id INT PRIMARY KEY, nome VARCHAR(100), idade INT, saldo FLOAT)')"
   ]
  },
  {
   "cell_type": "code",
   "execution_count": 13,
   "id": "01c21d4f",
   "metadata": {},
   "outputs": [
    {
     "data": {
      "text/plain": [
       "<sqlite3.Cursor at 0x2494c46ea40>"
      ]
     },
     "execution_count": 13,
     "metadata": {},
     "output_type": "execute_result"
    }
   ],
   "source": [
    "cursor.execute('INSERT INTO clientes(id, nome, idade, saldo) VALUES (1, \"Maria\", 20, 1500.00), \\\n",
    "(2, \"José\", 28, 6000.00), (3, \"Carla\", 15, 800.00), (4, \"Luísa\", 35, 10000.00), \\\n",
    "(5, \"Pedro\", 40, 6500.00),(6, \"Vinícius\", 20, 2500.00), \\\n",
    "(7, \"Leandro\", 22, 4000.00), (8, \"Lívia\", 32, 850.00), (9, \"Sheila\", 24, 1100.00), \\\n",
    "(10, \"Paulo\", 43, 25000.00)')"
   ]
  },
  {
   "cell_type": "code",
   "execution_count": 14,
   "id": "e22e0982",
   "metadata": {},
   "outputs": [
    {
     "name": "stdout",
     "output_type": "stream",
     "text": [
      "(1, 'Maria', 20, 1500.0)\n",
      "(2, 'José', 28, 6000.0)\n",
      "(3, 'Carla', 15, 800.0)\n",
      "(4, 'Luísa', 35, 10000.0)\n",
      "(5, 'Pedro', 40, 6500.0)\n",
      "(6, 'Vinícius', 20, 2500.0)\n",
      "(7, 'Leandro', 22, 4000.0)\n",
      "(8, 'Lívia', 32, 850.0)\n",
      "(9, 'Sheila', 24, 1100.0)\n",
      "(10, 'Paulo', 43, 25000.0)\n"
     ]
    }
   ],
   "source": [
    "dados = cursor.execute('SELECT * FROM clientes')\n",
    "\n",
    "for i in dados:\n",
    "    print(i)"
   ]
  },
  {
   "cell_type": "markdown",
   "id": "d9a13ea3",
   "metadata": {},
   "source": [
    "## Exercício 6\n",
    "Consultas e Funções Agregadas\n",
    "<br>Escreva consultas SQL para realizar as seguintes tarefas:\n",
    "<br>a) Selecione o nome e a idade dos clientes com idade superior a\n",
    "30 anos.\n",
    "<br>b) Calcule o saldo médio dos clientes.\n",
    "<br>c) Encontre o cliente com o saldo máximo.\n",
    "<br>d) Conte quantos clientes têm saldo acima de 1000."
   ]
  },
  {
   "cell_type": "code",
   "execution_count": 15,
   "id": "29700a19",
   "metadata": {},
   "outputs": [
    {
     "name": "stdout",
     "output_type": "stream",
     "text": [
      "('Luísa', 35)\n",
      "('Pedro', 40)\n",
      "('Lívia', 32)\n",
      "('Paulo', 43)\n"
     ]
    }
   ],
   "source": [
    "dados = cursor.execute('SELECT nome, idade FROM clientes WHERE idade>30')\n",
    "\n",
    "for i in dados:\n",
    "    print(i)"
   ]
  },
  {
   "cell_type": "code",
   "execution_count": 16,
   "id": "1f6d507f",
   "metadata": {},
   "outputs": [
    {
     "name": "stdout",
     "output_type": "stream",
     "text": [
      "(5825.0,)\n"
     ]
    }
   ],
   "source": [
    "saldo_medio = cursor.execute('SELECT AVG(saldo) FROM clientes')\n",
    "\n",
    "for i in saldo_medio:\n",
    "    print(i)"
   ]
  },
  {
   "cell_type": "code",
   "execution_count": 17,
   "id": "12c5c9d6",
   "metadata": {},
   "outputs": [
    {
     "name": "stdout",
     "output_type": "stream",
     "text": [
      "('Paulo', 25000.0)\n"
     ]
    }
   ],
   "source": [
    "saldo_max = cursor.execute('SELECT nome, MAX(saldo) FROM clientes')\n",
    "\n",
    "for i in saldo_max:\n",
    "    print(i)"
   ]
  },
  {
   "cell_type": "code",
   "execution_count": 18,
   "id": "1e653e03",
   "metadata": {},
   "outputs": [
    {
     "name": "stdout",
     "output_type": "stream",
     "text": [
      "(8,)\n"
     ]
    }
   ],
   "source": [
    "saldo_acima_1000 = cursor.execute('SELECT COUNT(*) FROM clientes WHERE saldo>1000.00')\n",
    "\n",
    "for i in saldo_acima_1000:\n",
    "    print(i)"
   ]
  },
  {
   "cell_type": "markdown",
   "id": "8b23606d",
   "metadata": {},
   "source": [
    "## Exercício 7\n",
    "Atualização e Remoção com Condições\n",
    "<br>a) Atualize o saldo de um cliente específico.\n",
    "<br>b) Remova um cliente pelo seu ID."
   ]
  },
  {
   "cell_type": "code",
   "execution_count": 19,
   "id": "09739bf8",
   "metadata": {},
   "outputs": [
    {
     "data": {
      "text/plain": [
       "<sqlite3.Cursor at 0x2494c46ea40>"
      ]
     },
     "execution_count": 19,
     "metadata": {},
     "output_type": "execute_result"
    }
   ],
   "source": [
    "cursor.execute('UPDATE clientes SET saldo=3000.00 WHERE nome=\"Leandro\"')"
   ]
  },
  {
   "cell_type": "code",
   "execution_count": 20,
   "id": "a5761711",
   "metadata": {},
   "outputs": [
    {
     "data": {
      "text/plain": [
       "<sqlite3.Cursor at 0x2494c46ea40>"
      ]
     },
     "execution_count": 20,
     "metadata": {},
     "output_type": "execute_result"
    }
   ],
   "source": [
    "cursor.execute('DELETE FROM clientes WHERE id=6')"
   ]
  },
  {
   "cell_type": "code",
   "execution_count": 21,
   "id": "36205912",
   "metadata": {},
   "outputs": [
    {
     "name": "stdout",
     "output_type": "stream",
     "text": [
      "(1, 'Maria', 20, 1500.0)\n",
      "(2, 'José', 28, 6000.0)\n",
      "(3, 'Carla', 15, 800.0)\n",
      "(4, 'Luísa', 35, 10000.0)\n",
      "(5, 'Pedro', 40, 6500.0)\n",
      "(7, 'Leandro', 22, 3000.0)\n",
      "(8, 'Lívia', 32, 850.0)\n",
      "(9, 'Sheila', 24, 1100.0)\n",
      "(10, 'Paulo', 43, 25000.0)\n"
     ]
    }
   ],
   "source": [
    "dados = cursor.execute('SELECT * FROM clientes')\n",
    "\n",
    "for i in dados:\n",
    "    print(i)"
   ]
  },
  {
   "cell_type": "markdown",
   "id": "cbf28c07",
   "metadata": {},
   "source": [
    "## Exercício 8\n",
    "Junção de Tabelas\n",
    "<br>Crie uma segunda tabela chamada \"compras\" com os campos: id\n",
    "(chave primária), cliente_id (chave estrangeira referenciando o id\n",
    "da tabela \"clientes\"), produto (texto) e valor (real). Insira algumas\n",
    "compras associadas a clientes existentes na tabela \"clientes\".\n",
    "Escreva uma consulta para exibir o nome do cliente, o produto e o\n",
    "valor de cada compra."
   ]
  },
  {
   "cell_type": "code",
   "execution_count": 22,
   "id": "8bfc19eb",
   "metadata": {},
   "outputs": [
    {
     "data": {
      "text/plain": [
       "<sqlite3.Cursor at 0x2494c46ea40>"
      ]
     },
     "execution_count": 22,
     "metadata": {},
     "output_type": "execute_result"
    }
   ],
   "source": [
    "#cursor.execute('CREATE TABLE compras(id INT, cliente_id INT, FOREIGN KEY(cliente_id) REFERENCES clientes(id)) produto VARCHAR(30), valor FLOAT')\n",
    "cursor.execute('CREATE TABLE compras(id INT PRIMARY KEY, cliente_id INT, produto TEXT, valor REAL, FOREIGN KEY (cliente_id) REFERENCES clientes(id))')    "
   ]
  },
  {
   "cell_type": "code",
   "execution_count": 24,
   "id": "8000688d",
   "metadata": {},
   "outputs": [
    {
     "data": {
      "text/plain": [
       "<sqlite3.Cursor at 0x2494c46ea40>"
      ]
     },
     "execution_count": 24,
     "metadata": {},
     "output_type": "execute_result"
    }
   ],
   "source": [
    "cursor.execute('INSERT INTO compras(id, cliente_id, produto, valor) VALUES (1, 1, \"estojo\", 15.00), \\\n",
    "(2, 2, \"caderno\", 30.00), (3, 4, \"celular\", 1800.00), (4, 4, \"livro\", 100.00), \\\n",
    "(5, 5, \"teclado\", 150.00),(6, 7, \"mouse\", 50.00), \\\n",
    "(7, 9, \"violão\", 300.00), (8, 10, \"notebook\", 3850.00), (9, 10, \"mochila\", 200.00), \\\n",
    "(10, 10, \"relógio\", 300.00)')"
   ]
  },
  {
   "cell_type": "code",
   "execution_count": 25,
   "id": "518b415e",
   "metadata": {},
   "outputs": [
    {
     "name": "stdout",
     "output_type": "stream",
     "text": [
      "(1, 1, 'estojo', 15.0)\n",
      "(2, 2, 'caderno', 30.0)\n",
      "(3, 4, 'celular', 1800.0)\n",
      "(4, 4, 'livro', 100.0)\n",
      "(5, 5, 'teclado', 150.0)\n",
      "(6, 7, 'mouse', 50.0)\n",
      "(7, 9, 'violão', 300.0)\n",
      "(8, 10, 'notebook', 3850.0)\n",
      "(9, 10, 'mochila', 200.0)\n",
      "(10, 10, 'relógio', 300.0)\n"
     ]
    }
   ],
   "source": [
    "dados = cursor.execute('SELECT * FROM compras')\n",
    "for i in dados:\n",
    "    print(i)"
   ]
  },
  {
   "cell_type": "code",
   "execution_count": 35,
   "id": "7c06960f",
   "metadata": {},
   "outputs": [
    {
     "name": "stdout",
     "output_type": "stream",
     "text": [
      "('Maria', 'estojo', 15.0)\n",
      "('José', 'caderno', 30.0)\n",
      "('Luísa', 'celular', 1800.0)\n",
      "('Luísa', 'livro', 100.0)\n",
      "('Pedro', 'teclado', 150.0)\n",
      "('Leandro', 'mouse', 50.0)\n",
      "('Sheila', 'violão', 300.0)\n",
      "('Paulo', 'notebook', 3850.0)\n",
      "('Paulo', 'mochila', 200.0)\n",
      "('Paulo', 'relógio', 300.0)\n"
     ]
    }
   ],
   "source": [
    "dados_join = dados = cursor.execute('SELECT c.nome, p.produto, p.valor FROM compras p JOIN clientes c ON p.cliente_id = c.id')\n",
    "\n",
    "for i in dados_join:\n",
    "    print(i)"
   ]
  },
  {
   "cell_type": "code",
   "execution_count": 30,
   "id": "e7a680fc",
   "metadata": {},
   "outputs": [
    {
     "data": {
      "text/plain": [
       "<function Connection.close()>"
      ]
     },
     "execution_count": 30,
     "metadata": {},
     "output_type": "execute_result"
    }
   ],
   "source": [
    "conexao.commit()\n",
    "conexao.close"
   ]
  },
  {
   "cell_type": "code",
   "execution_count": null,
   "id": "36334bbe",
   "metadata": {},
   "outputs": [],
   "source": []
  }
 ],
 "metadata": {
  "kernelspec": {
   "display_name": "Python 3 (ipykernel)",
   "language": "python",
   "name": "python3"
  },
  "language_info": {
   "codemirror_mode": {
    "name": "ipython",
    "version": 3
   },
   "file_extension": ".py",
   "mimetype": "text/x-python",
   "name": "python",
   "nbconvert_exporter": "python",
   "pygments_lexer": "ipython3",
   "version": "3.11.5"
  }
 },
 "nbformat": 4,
 "nbformat_minor": 5
}
